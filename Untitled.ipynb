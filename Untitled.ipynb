{
 "cells": [
  {
   "cell_type": "code",
   "execution_count": 2,
   "metadata": {},
   "outputs": [
    {
     "name": "stdout",
     "output_type": "stream",
     "text": [
      "varian Tinggi  : 499\n",
      "varian B.Badan : 499\n",
      "varian  UMUR   : 499\n",
      "varian NILAI   : 499\n"
     ]
    }
   ],
   "source": [
    "import pandas as dt\n",
    "df=dt.read_csv(\"contoh.csv\")\n",
    "df['TINGGI'].describe()\n",
    "df['BB'].describe()\n",
    "df['UMUR'].describe()\n",
    "df['NILAI'].describe()\n",
    "print(\"varian Tinggi  :\",df['TINGGI'].count())\n",
    "print(\"varian B.Badan :\",df['BB'].count())\n",
    "print(\"varian  UMUR   :\",df['UMUR'].count())\n",
    "print(\"varian NILAI   :\",df['NILAI'].count())"
   ]
  },
  {
   "cell_type": "code",
   "execution_count": null,
   "metadata": {},
   "outputs": [],
   "source": []
  },
  {
   "cell_type": "code",
   "execution_count": 52,
   "metadata": {},
   "outputs": [
    {
     "name": "stdout",
     "output_type": "stream",
     "text": [
      "Rata-rata Tinggi 170.45090180360722\n",
      "Rata-rata Berat Badan 119.54308617234469\n",
      "Rata-rata UMUR 43.30861723446894\n",
      "Rata-rata NILAI 74.6753507014028\n"
     ]
    }
   ],
   "source": [
    "import pandas as dt\n",
    "df=dt.read_csv(\"contoh.csv\")\n",
    "df['TINGGI'].describe()\n",
    "df['BB'].describe()\n",
    "df['UMUR'].describe()\n",
    "df['NILAI'].describe()\n",
    "print(\"Rata-rata Tinggi\",df['TINGGI'].mean())\n",
    "print(\"Rata-rata Berat Badan\",df['BB'].mean())\n",
    "print(\"Rata-rata UMUR\",df['UMUR'].mean())\n",
    "print(\"Rata-rata NILAI\",df['NILAI'].mean())\n"
   ]
  },
  {
   "cell_type": "code",
   "execution_count": 58,
   "metadata": {},
   "outputs": [
    {
     "name": "stdout",
     "output_type": "stream",
     "text": [
      "('Q2 Tinggi', 170.0)\n"
     ]
    }
   ],
   "source": [
    "import pandas as dt\n",
    "df=dt.read_csv(\"contoh.csv\")\n",
    "df['TINGGI'].describe()\n",
    "makan=(\"Q2 Tinggi\",df['TINGGI'].median())\n",
    "print (makan)"
   ]
  },
  {
   "cell_type": "code",
   "execution_count": 59,
   "metadata": {},
   "outputs": [
    {
     "name": "stdout",
     "output_type": "stream",
     "text": [
      "modus Tinggi      0    176\n",
      "dtype: int64\n",
      "modus B.Badan     0    52\n",
      "dtype: int64\n",
      "modus UMUR        0    53\n",
      "dtype: int64\n",
      "modus NILAI       0    100\n",
      "dtype: int64\n"
     ]
    }
   ],
   "source": [
    "import pandas as dt\n",
    "df=dt.read_csv(\"contoh.csv\")\n",
    "df['TINGGI'].describe()\n",
    "df['BB'].describe()\n",
    "df['UMUR'].describe()\n",
    "df['NILAI'].describe()\n",
    "print(\"modus Tinggi     \",df['TINGGI'].mode())\n",
    "print(\"modus B.Badan    \",df['BB'].mode()) \n",
    "print(\"modus UMUR       \",df['UMUR'].mode())\n",
    "print(\"modus NILAI      \",df['NILAI'].mode())"
   ]
  },
  {
   "cell_type": "code",
   "execution_count": 47,
   "metadata": {},
   "outputs": [
    {
     "name": "stdout",
     "output_type": "stream",
     "text": [
      "Standar deviasi Tinggi  : 16.760391914777067\n",
      "Standar deviasi B.Badan : 46.720647715828335\n",
      "Standar deviasi UMUR    : 13.321365583747298\n",
      "Standar deviasi NILAI   : 14.490781366292062\n"
     ]
    }
   ],
   "source": [
    "import pandas as dt\n",
    "df=dt.read_csv(\"contoh.csv\")\n",
    "df['TINGGI'].describe()\n",
    "df['BB'].describe()\n",
    "df['UMUR'].describe()\n",
    "df['NILAI'].describe()\n",
    "print(\"Standar deviasi Tinggi  :\",df['TINGGI'].std())\n",
    "print(\"Standar deviasi B.Badan :\",df['BB'].std())\n",
    "print(\"Standar deviasi UMUR    :\",df['UMUR'].std())\n",
    "print(\"Standar deviasi NILAI   :\",df['NILAI'].std())"
   ]
  },
  {
   "cell_type": "code",
   "execution_count": 55,
   "metadata": {},
   "outputs": [
    {
     "name": "stdout",
     "output_type": "stream",
     "text": [
      "kemiringan Tinggi  : -0.016248849780930406\n",
      "kemiringan B.Badan : 0.007341864521398289\n",
      "kemiringan  UMUR   : -0.10397194858469867\n",
      "kemiringan NILAI   : 0.03744260547804399\n"
     ]
    }
   ],
   "source": [
    "import pandas as dt\n",
    "df=dt.read_csv(\"contoh.csv\")\n",
    "df['TINGGI'].describe()\n",
    "df['BB'].describe()\n",
    "df['UMUR'].describe()\n",
    "df['NILAI'].describe()\n",
    "print(\"kemiringan Tinggi  :\",df['TINGGI'].skew())\n",
    "print(\"kemiringan B.Badan :\",df['BB'].skew())\n",
    "print(\"kemiringan  UMUR   :\",df['UMUR'].skew())\n",
    "print(\"kemiringan NILAI   :\",df['NILAI'].skew())"
   ]
  },
  {
   "cell_type": "code",
   "execution_count": 56,
   "metadata": {},
   "outputs": [
    {
     "name": "stdout",
     "output_type": "stream",
     "text": [
      "min Tinggi  : 140\n",
      "min B.Badan : 40\n",
      "min  UMUR   : 20\n",
      "min NILAI   : 50\n"
     ]
    }
   ],
   "source": [
    "import pandas as dt\n",
    "df=dt.read_csv(\"contoh.csv\")\n",
    "df['TINGGI'].describe()\n",
    "df['BB'].describe()\n",
    "df['UMUR'].describe()\n",
    "df['NILAI'].describe()\n",
    "print(\"min Tinggi  :\",df['TINGGI'].min())\n",
    "print(\"min B.Badan :\",df['BB'].min())\n",
    "print(\"min  UMUR   :\",df['UMUR'].min())\n",
    "print(\"min NILAI   :\",df['NILAI'].min())"
   ]
  },
  {
   "cell_type": "code",
   "execution_count": 57,
   "metadata": {},
   "outputs": [
    {
     "name": "stdout",
     "output_type": "stream",
     "text": [
      "max Tinggi  : 200\n",
      "max B.Badan : 200\n",
      "max  UMUR   : 65\n",
      "max NILAI   : 100\n"
     ]
    }
   ],
   "source": [
    "import pandas as dt\n",
    "df=dt.read_csv(\"contoh.csv\")\n",
    "df['TINGGI'].describe()\n",
    "df['BB'].describe()\n",
    "df['UMUR'].describe()\n",
    "df['NILAI'].describe()\n",
    "print(\"max Tinggi  :\",df['TINGGI'].max())\n",
    "print(\"max B.Badan :\",df['BB'].max())\n",
    "print(\"max  UMUR   :\",df['UMUR'].max())\n",
    "print(\"max NILAI   :\",df['NILAI'].max())"
   ]
  },
  {
   "cell_type": "code",
   "execution_count": null,
   "metadata": {},
   "outputs": [],
   "source": []
  },
  {
   "cell_type": "code",
   "execution_count": null,
   "metadata": {},
   "outputs": [],
   "source": []
  },
  {
   "cell_type": "code",
   "execution_count": 50,
   "metadata": {},
   "outputs": [
    {
     "data": {
      "text/html": [
       "<div>\n",
       "<style scoped>\n",
       "    .dataframe tbody tr th:only-of-type {\n",
       "        vertical-align: middle;\n",
       "    }\n",
       "\n",
       "    .dataframe tbody tr th {\n",
       "        vertical-align: top;\n",
       "    }\n",
       "\n",
       "    .dataframe thead th {\n",
       "        text-align: right;\n",
       "    }\n",
       "</style>\n",
       "<table border=\"1\" class=\"dataframe\">\n",
       "  <thead>\n",
       "    <tr style=\"text-align: right;\">\n",
       "      <th></th>\n",
       "      <th>TINGGI</th>\n",
       "      <th>BB</th>\n",
       "      <th>UMUR</th>\n",
       "      <th>NILAI</th>\n",
       "    </tr>\n",
       "  </thead>\n",
       "  <tbody>\n",
       "    <tr>\n",
       "      <td>0</td>\n",
       "      <td>197</td>\n",
       "      <td>156</td>\n",
       "      <td>22</td>\n",
       "      <td>95</td>\n",
       "    </tr>\n",
       "    <tr>\n",
       "      <td>1</td>\n",
       "      <td>143</td>\n",
       "      <td>109</td>\n",
       "      <td>43</td>\n",
       "      <td>100</td>\n",
       "    </tr>\n",
       "    <tr>\n",
       "      <td>2</td>\n",
       "      <td>167</td>\n",
       "      <td>111</td>\n",
       "      <td>43</td>\n",
       "      <td>53</td>\n",
       "    </tr>\n",
       "    <tr>\n",
       "      <td>3</td>\n",
       "      <td>146</td>\n",
       "      <td>73</td>\n",
       "      <td>25</td>\n",
       "      <td>98</td>\n",
       "    </tr>\n",
       "    <tr>\n",
       "      <td>4</td>\n",
       "      <td>189</td>\n",
       "      <td>166</td>\n",
       "      <td>21</td>\n",
       "      <td>54</td>\n",
       "    </tr>\n",
       "    <tr>\n",
       "      <td>...</td>\n",
       "      <td>...</td>\n",
       "      <td>...</td>\n",
       "      <td>...</td>\n",
       "      <td>...</td>\n",
       "    </tr>\n",
       "    <tr>\n",
       "      <td>494</td>\n",
       "      <td>166</td>\n",
       "      <td>56</td>\n",
       "      <td>33</td>\n",
       "      <td>75</td>\n",
       "    </tr>\n",
       "    <tr>\n",
       "      <td>495</td>\n",
       "      <td>172</td>\n",
       "      <td>67</td>\n",
       "      <td>53</td>\n",
       "      <td>99</td>\n",
       "    </tr>\n",
       "    <tr>\n",
       "      <td>496</td>\n",
       "      <td>194</td>\n",
       "      <td>86</td>\n",
       "      <td>63</td>\n",
       "      <td>92</td>\n",
       "    </tr>\n",
       "    <tr>\n",
       "      <td>497</td>\n",
       "      <td>194</td>\n",
       "      <td>51</td>\n",
       "      <td>47</td>\n",
       "      <td>71</td>\n",
       "    </tr>\n",
       "    <tr>\n",
       "      <td>498</td>\n",
       "      <td>162</td>\n",
       "      <td>126</td>\n",
       "      <td>20</td>\n",
       "      <td>67</td>\n",
       "    </tr>\n",
       "  </tbody>\n",
       "</table>\n",
       "<p>499 rows × 4 columns</p>\n",
       "</div>"
      ],
      "text/plain": [
       "     TINGGI   BB  UMUR  NILAI\n",
       "0       197  156    22     95\n",
       "1       143  109    43    100\n",
       "2       167  111    43     53\n",
       "3       146   73    25     98\n",
       "4       189  166    21     54\n",
       "..      ...  ...   ...    ...\n",
       "494     166   56    33     75\n",
       "495     172   67    53     99\n",
       "496     194   86    63     92\n",
       "497     194   51    47     71\n",
       "498     162  126    20     67\n",
       "\n",
       "[499 rows x 4 columns]"
      ]
     },
     "execution_count": 50,
     "metadata": {},
     "output_type": "execute_result"
    }
   ],
   "source": [
    "import numpy as ip\n",
    "import matplotlib.pyplot as mat\n",
    "from scipy import stats\n",
    "import pandas as data\n",
    "\n",
    "data.read_csv(\"contoh.csv\")"
   ]
  },
  {
   "cell_type": "code",
   "execution_count": 51,
   "metadata": {},
   "outputs": [
    {
     "name": "stdout",
     "output_type": "stream",
     "text": [
      "ModeResult(mode=array([[176,  52,  53, 100]], dtype=int64), count=array([[15, 10, 20, 17]]))\n"
     ]
    }
   ],
   "source": [
    "import numpy as ip\n",
    "import seaborn as sea\n",
    "import matplotlib.pyplot as mat\n",
    "from scipy import stats\n",
    "import pandas as data\n",
    "\n",
    "cek = data.read_csv(\"contoh.csv\")\n",
    "mode = stats.mode(cek)\n",
    "print(mode)"
   ]
  },
  {
   "cell_type": "code",
   "execution_count": 1,
   "metadata": {},
   "outputs": [
    {
     "name": "stderr",
     "output_type": "stream",
     "text": [
      "C:\\Users\\ASUS\\Anaconda3\\lib\\site-packages\\matplotlib\\axes\\_axes.py:6462: UserWarning: The 'normed' kwarg is deprecated, and has been replaced by the 'density' kwarg.\n",
      "  warnings.warn(\"The 'normed' kwarg is deprecated, and has been \"\n",
      "C:\\Users\\ASUS\\Anaconda3\\lib\\site-packages\\matplotlib\\axes\\_axes.py:6462: UserWarning: The 'normed' kwarg is deprecated, and has been replaced by the 'density' kwarg.\n",
      "  warnings.warn(\"The 'normed' kwarg is deprecated, and has been \"\n",
      "C:\\Users\\ASUS\\Anaconda3\\lib\\site-packages\\matplotlib\\axes\\_axes.py:6462: UserWarning: The 'normed' kwarg is deprecated, and has been replaced by the 'density' kwarg.\n",
      "  warnings.warn(\"The 'normed' kwarg is deprecated, and has been \"\n"
     ]
    }
   ],
   "source": [
    "import numpy as ip\n",
    "import seaborn as sea\n",
    "import matplotlib.pyplot as mat\n",
    "from scipy import stats\n",
    "import pandas as dt\n",
    "\n",
    "for i in range(3):\n",
    "    hasil=dt.read_csv(\"contoh.csv\",usecols=[i])\n",
    "    sea.distplot(hasil);"
   ]
  },
  {
   "cell_type": "code",
   "execution_count": null,
   "metadata": {},
   "outputs": [],
   "source": []
  }
 ],
 "metadata": {
  "kernelspec": {
   "display_name": "Python 3",
   "language": "python",
   "name": "python3"
  },
  "language_info": {
   "codemirror_mode": {
    "name": "ipython",
    "version": 3
   },
   "file_extension": ".py",
   "mimetype": "text/x-python",
   "name": "python",
   "nbconvert_exporter": "python",
   "pygments_lexer": "ipython3",
   "version": "3.6.5"
  }
 },
 "nbformat": 4,
 "nbformat_minor": 2
}
